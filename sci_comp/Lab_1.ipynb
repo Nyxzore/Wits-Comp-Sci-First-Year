{
 "cells": [
  {
   "cell_type": "code",
   "execution_count": 9,
   "id": "04215def",
   "metadata": {},
   "outputs": [
    {
     "name": "stdout",
     "output_type": "stream",
     "text": [
      "3.0 0.2222222222222222 10 6.0 512 -16 302.0\n"
     ]
    }
   ],
   "source": [
    "###1.1 Manually evaluate the following, then implement on Python\n",
    "print(\n",
    "2/2 * 3, \n",
    "2/3**2,\n",
    "2 + 3 * 4 - 4,\n",
    "2**2 * 3/4 + 3,\n",
    "2**3**2,\n",
    "-4**2,\n",
    "3*82 + 4**3 - 64**(1/2)\n",
    ")"
   ]
  },
  {
   "cell_type": "code",
   "execution_count": 11,
   "id": "cbc8a88b",
   "metadata": {},
   "outputs": [
    {
     "name": "stdout",
     "output_type": "stream",
     "text": [
      "0.5454545454545454 0.7071067811865475 -0.6\n"
     ]
    }
   ],
   "source": [
    "###1.2. Use Python in evaluating the following expressions\n",
    "print(\n",
    "(2+4)/(5+6),\n",
    "1/(2**0.5),\n",
    "(1-(2)/(3+2))/(1-(2)/(3-2))\n",
    ")"
   ]
  },
  {
   "cell_type": "code",
   "execution_count": 14,
   "id": "bcdcb4c5",
   "metadata": {},
   "outputs": [
    {
     "data": {
      "text/plain": [
       "0.4"
      ]
     },
     "execution_count": 14,
     "metadata": {},
     "output_type": "execute_result"
    }
   ],
   "source": [
    "###1.3. Apply caution when using several brackets!!! Spot the errors in the following expressions\n",
    "(2*(3 + 4)/5*(6 + 1))**2\n",
    "(8*2)/(4*(2+2/(2/4)*2)) #2//4=0 so you get division by 0 input likely mean to be 2/4"
   ]
  },
  {
   "cell_type": "code",
   "execution_count": 18,
   "id": "cfa9b557",
   "metadata": {},
   "outputs": [
    {
     "name": "stdout",
     "output_type": "stream",
     "text": [
      "5\n",
      "3\n",
      "sum: 8.0 \n",
      " differnce: 2.0 \n",
      " product: 15.0 \n",
      " quotient: 1.0 \n",
      " remainder: 2.0\n"
     ]
    }
   ],
   "source": [
    "###1.4. Give values to variables x and y. Write some statements to find the sum, difference, product,\n",
    "x = float(input())\n",
    "y = float(input())\n",
    "\n",
    "#nb sum is a reserved word!!!\n",
    "sumxy = x + y\n",
    "diff = x-y\n",
    "product = x*y\n",
    "quotient = x//y\n",
    "rem = x%y\n",
    "\n",
    "print(\"sum: {} \\n differnce: {} \\n product: {} \\n quotient: {} \\n remainder: {}\".format(sumxy,diff,product,quotient,rem))\n"
   ]
  },
  {
   "cell_type": "code",
   "execution_count": 23,
   "id": "a4a0d54b",
   "metadata": {},
   "outputs": [
    {
     "name": "stdout",
     "output_type": "stream",
     "text": [
      "35.9\n"
     ]
    }
   ],
   "source": [
    "###3.3\n",
    "info = ['Star Wars', 1977, 'PG', [35.9,460.9]]\n",
    "print(info[-1][0])"
   ]
  },
  {
   "cell_type": "code",
   "execution_count": 26,
   "id": "04cd3228",
   "metadata": {},
   "outputs": [
    {
     "name": "stdout",
     "output_type": "stream",
     "text": [
      "['Star Wars', 'PG', [35.9, 460.9], 'Damian']\n"
     ]
    }
   ],
   "source": [
    "#3.7\n",
    "info = ['Star Wars', 1977, 'PG', [35.9,460.9]]\n",
    "info.append('Damian')\n",
    "info.remove(1977)\n",
    "print(info)"
   ]
  },
  {
   "cell_type": "code",
   "execution_count": 28,
   "id": "1c866ae7",
   "metadata": {},
   "outputs": [
    {
     "name": "stdout",
     "output_type": "stream",
     "text": [
      "['milk', 'cheese', 'avo', 'bread']\n"
     ]
    }
   ],
   "source": [
    "#3.8\n",
    "shopping_list = []\n",
    "shopping_list.append('milk')\n",
    "shopping_list.append('cheese')\n",
    "shopping_list.append('avo')\n",
    "shopping_list.append('bread')\n",
    "print(shopping_list)"
   ]
  },
  {
   "cell_type": "code",
   "execution_count": null,
   "id": "d0c9d155",
   "metadata": {},
   "outputs": [],
   "source": []
  }
 ],
 "metadata": {
  "kernelspec": {
   "display_name": "Python 3 (ipykernel)",
   "language": "python",
   "name": "python3"
  },
  "language_info": {
   "codemirror_mode": {
    "name": "ipython",
    "version": 3
   },
   "file_extension": ".py",
   "mimetype": "text/x-python",
   "name": "python",
   "nbconvert_exporter": "python",
   "pygments_lexer": "ipython3",
   "version": "3.12.3"
  }
 },
 "nbformat": 4,
 "nbformat_minor": 5
}
