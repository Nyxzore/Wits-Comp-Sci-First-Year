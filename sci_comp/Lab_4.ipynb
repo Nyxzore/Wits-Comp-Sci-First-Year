{
 "cells": [
  {
   "cell_type": "code",
   "execution_count": 25,
   "id": "90693051-868f-4ecc-86c1-dffcd58e0b0f",
   "metadata": {},
   "outputs": [
    {
     "name": "stdout",
     "output_type": "stream",
     "text": [
      "[[ 0 -3  2]\n",
      " [ 4  1  1]\n",
      " [ 2  7  6]]\n",
      "[[16.          1.73205081  7.        ]\n",
      " [ 6.          2.45        2.        ]\n",
      " [ 0.          8.          0.98935825]]\n",
      "[[ 0 -3  2]\n",
      " [ 4  1  1]\n",
      " [ 2  7  6]]\n"
     ]
    }
   ],
   "source": [
    "#1.2\n",
    "#a\n",
    "print(np.array([[0,4,2], [-3,1,7], [2,1,6]]).T)\n",
    "print(np.array([[16,6,0], [np.sqrt(3), 2.45, 8], [7,2,np.sin(8)]]).T)\n",
    "print(np.array([[24,-16,23], [np.], [2,1,6]]).T)"
   ]
  },
  {
   "cell_type": "code",
   "execution_count": 23,
   "id": "817caeaa-3c11-45d6-a2ff-2930d9570b06",
   "metadata": {},
   "outputs": [
    {
     "name": "stdout",
     "output_type": "stream",
     "text": [
      "[[-1.5 -1. ]\n",
      " [-2.  -7.5]]\n"
     ]
    }
   ],
   "source": [
    "#2.c\n",
    "print(np.array([[2,3], [1,4]]) - np.array([[3.5, 4], [3, 11.5]]))"
   ]
  },
  {
   "cell_type": "code",
   "execution_count": 21,
   "id": "091efdb8-1b61-4093-81ef-af1377b57d08",
   "metadata": {},
   "outputs": [
    {
     "name": "stdout",
     "output_type": "stream",
     "text": [
      "invalid dimentions\n"
     ]
    }
   ],
   "source": [
    "#2.b\n",
    "try:\n",
    "    print(np.array([[6.5, 3.4, 9], [1,7,11], [83, 72, 34], [42, 32.5, 19]]) - np.array([[8.4, 4.7], [3.5, 11.5], [21,14]]))\n",
    "except:\n",
    "    print('invalid dimentions')"
   ]
  },
  {
   "cell_type": "code",
   "execution_count": 18,
   "id": "89a80242-ae93-4476-a0e7-5ed7386edbcc",
   "metadata": {},
   "outputs": [
    {
     "name": "stdout",
     "output_type": "stream",
     "text": [
      "[[ 11 -13]\n",
      " [ -3 114]\n",
      " [ 19 -56]]\n"
     ]
    }
   ],
   "source": [
    "#2.c\n",
    "import numpy as np\n",
    "print(5*np.array([[4,-5], [3,12], [8,11]]) - 3*np.array([[3,-4], [6, -18], [7, 37]]))"
   ]
  },
  {
   "cell_type": "code",
   "execution_count": 16,
   "id": "e630ed46-4b37-449d-8bb5-ed7f788ce8d8",
   "metadata": {},
   "outputs": [
    {
     "name": "stdout",
     "output_type": "stream",
     "text": [
      "[[-17  28]\n",
      " [-54  -1]\n",
      " [ 51 -18]\n",
      " [-13  42]] \n",
      "\n",
      "(4, 2)\n"
     ]
    }
   ],
   "source": [
    "#2.d\n",
    "\n",
    "import numpy as np\n",
    "A= np.array([[4,3,-6], [7, -4, -5], [-10, 3, 4], [9,1,0]])\n",
    "B = np.array([[-2,4], [5,6], [4,1]])\n",
    "print(A@B, '\\n')\n",
    "print((A@B).shape)"
   ]
  },
  {
   "cell_type": "code",
   "execution_count": 2,
   "id": "c472f597",
   "metadata": {},
   "outputs": [
    {
     "name": "stdout",
     "output_type": "stream",
     "text": [
      "[[  3   2  -6]\n",
      " [  1  -5  11]\n",
      " [ -2  -8 -13]] \n",
      "\n",
      "[[-2  0  2]\n",
      " [-2  2 -6]\n",
      " [ 0  4  6]] \n",
      "\n",
      "[[ 1  0 28]\n",
      " [ 0  1 14]\n",
      " [ 0  0 15]] \n",
      "\n",
      "[[ 1  0  0]\n",
      " [ 0  1  0]\n",
      " [28  0 15]] \n",
      "\n",
      "[[ 1  0 28]\n",
      " [ 0  1  0]\n",
      " [ 0  0 15]] \n",
      "\n",
      "[[ 1  0 28]\n",
      " [ 0  1  0]\n",
      " [ 0  0 15]] \n",
      "\n",
      "-1 \n",
      "\n",
      "-15 \n",
      "\n",
      "[[ 0.  6.  4.]\n",
      " [ 9.  0. -9.]\n",
      " [-4.  0.  0.]] \n",
      "\n",
      "[[ -4   0   4]\n",
      " [ -4   4 -12]\n",
      " [  0   8  12]] \n",
      "\n",
      "7.1: |AB|= 15  =|A||B|= 15 \n",
      "\n",
      "7.2: |5B|= -1875  =5^3|B|= -1875.0 \n",
      "\n",
      "7.3: |A^T|= -1  =|A|= -1 \n",
      "\n",
      "8.1:  [10 -2 18]\n",
      "8.2:  [25 23 19]\n",
      "8.3:  [  36  -51 -207]\n",
      "8.4:  24\n"
     ]
    }
   ],
   "source": [
    "#2e\n",
    "import numpy as np\n",
    "A = np.array([[1, -2, 2], [3,1,1], [2,0,1]])\n",
    "B = np.array([[-1,-2,4], [1,3,-5], [2,4,7]])\n",
    "\n",
    "#e(i)\n",
    "print(A-(2*B), '\\n') \n",
    "print(B-A, '\\n')\n",
    "#e(ii)\n",
    "print(A @ B, '\\n')\n",
    "\n",
    "#e(ii)\n",
    "print(B@A, '\\n')\n",
    "\n",
    "#e(iii)\n",
    "print((B@A).T, '\\n')\n",
    "print(A.T @ B.T, '\\n')\n",
    "\n",
    "#e(iv)\n",
    "print(round(np.linalg.det(A)), '\\n')\n",
    "print(round(np.linalg.det(B)), '\\n')\n",
    "\n",
    "#e(v)\n",
    "print((A+3*(np.identity(3)))*(B-B.T) , '\\n')\n",
    "\n",
    "#e(vi)\n",
    "print(2*B-2*A, '\\n')\n",
    "\n",
    "#(vii)\n",
    "print('7.1:', '|AB|=', round(np.linalg.det(A@B)), ' =|A||B|=', round(np.linalg.det(A)*round(np.linalg.det(B))),  '\\n')\n",
    "print('7.2:', '|5B|=', round(np.linalg.det(5*B)), ' =5^3|B|=', 5**3*(np.linalg.det(B)), '\\n')\n",
    "print('7.3:', '|A^T|=', round(np.linalg.det(A.T)), ' =|A|=', round(np.linalg.det(A)), '\\n' )\n",
    "\n",
    "#(viii)\n",
    "x = np.array([3,0,6])\n",
    "y = np.array([2, -1, 3])\n",
    "print('8.1: ', 2*x+2*y)\n",
    "print('8.2: ', A@x+A@y)\n",
    "print('8.3: ', B@(2*x-3*A@y))\n",
    "print('8.4: ', x@y)"
   ]
  },
  {
   "cell_type": "code",
   "execution_count": 13,
   "id": "3d04944a",
   "metadata": {},
   "outputs": [
    {
     "name": "stdout",
     "output_type": "stream",
     "text": [
      "3.1 inverse = \n",
      " [[-0.1509434   0.05660377]\n",
      " [ 0.13207547  0.0754717 ]] \n",
      "\n",
      "inverse product = \n",
      " [[1. 0.]\n",
      " [0. 1.]] \n",
      "\n"
     ]
    }
   ],
   "source": [
    "#3.1\n",
    "\n",
    "def det(t_by_t_matrix):\n",
    "    return t_by_t_matrix[0][0] * t_by_t_matrix[1][1] - t_by_t_matrix[0][1] * t_by_t_matrix[1][0]\n",
    "    \n",
    "\n",
    "def inverse(matrix):\n",
    "    if det(matrix) != 0:\n",
    "        inverse_m = np.linalg.inv(matrix)\n",
    "        print('3.1 inverse = \\n', inverse_m, '\\n')\n",
    "        print('inverse product = \\n', inverse_m @ matrix, '\\n')\n",
    "    \n",
    "\n",
    "A = np.array([[-4,3], [7,8]])\n",
    "B = np.array([[4,3], [8,6]])\n",
    "\n",
    "inverse(A)\n",
    "inverse(B)"
   ]
  },
  {
   "cell_type": "code",
   "execution_count": 11,
   "id": "0b640620",
   "metadata": {},
   "outputs": [
    {
     "name": "stdout",
     "output_type": "stream",
     "text": [
      "35.0\n",
      "18.841443681416774\n",
      "13.0\n"
     ]
    }
   ],
   "source": [
    "#3.2\n",
    "import numpy as np\n",
    "x= np.array([11 ,-13, 7, 4])\n",
    "def norms(vec):\n",
    "    print(np.linalg.norm(vec,1))\n",
    "    print(np.linalg.norm(vec,2))\n",
    "    print(np.linalg.norm(vec,np.inf))\n",
    "\n",
    "norms(x)"
   ]
  },
  {
   "cell_type": "code",
   "execution_count": 12,
   "id": "83b00d09-6b21-4a3c-a10f-243713e110f2",
   "metadata": {},
   "outputs": [
    {
     "name": "stdout",
     "output_type": "stream",
     "text": [
      "40.0\n",
      "38.0\n"
     ]
    }
   ],
   "source": [
    "#3.3\n",
    "import numpy as np\n",
    "A = np.array([[4, -11, 12 , 5], [3, -4, -5, -6], [8, 2, 11, -7], [4,3, 9, 22]])\n",
    "def norms(vec):\n",
    "    print(np.linalg.norm(vec,1))\n",
    "    print(np.linalg.norm(vec,np.inf))\n",
    "\n",
    "norms(A)"
   ]
  },
  {
   "cell_type": "code",
   "execution_count": null,
   "id": "838de3d1-e32c-4837-b214-9ccb8c541c6c",
   "metadata": {},
   "outputs": [],
   "source": []
  }
 ],
 "metadata": {
  "kernelspec": {
   "display_name": "Python 3 (ipykernel)",
   "language": "python",
   "name": "python3"
  },
  "language_info": {
   "codemirror_mode": {
    "name": "ipython",
    "version": 3
   },
   "file_extension": ".py",
   "mimetype": "text/x-python",
   "name": "python",
   "nbconvert_exporter": "python",
   "pygments_lexer": "ipython3",
   "version": "3.12.7"
  }
 },
 "nbformat": 4,
 "nbformat_minor": 5
}
