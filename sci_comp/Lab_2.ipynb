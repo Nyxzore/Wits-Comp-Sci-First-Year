{
 "cells": [
  {
   "cell_type": "code",
   "execution_count": 1,
   "id": "56600294",
   "metadata": {},
   "outputs": [
    {
     "name": "stdout",
     "output_type": "stream",
     "text": [
      "34\n",
      "Educated Amount: R5440.00 \n",
      "Uneducated Amount: R750.00\n"
     ]
    }
   ],
   "source": [
    "#2.2\n",
    "hours = int(input())\n",
    "#calc educated hours\n",
    "if hours > 10: #worked overtime\n",
    "    regular_amt = 10*100 #hrs*rate\n",
    "    overtime_amt = (hours-10)*185\n",
    "    educated_amt = regular_amt + overtime_amt\n",
    "else: #<= regular time\n",
    "    edcuated_amt = hours*100\n",
    "    \n",
    "#calc uneducated hours\n",
    "if hours > 10:\n",
    "    regular_amt = 10*15 #hrs*rate\n",
    "    overtime_amt = (hours-10)*25\n",
    "    unedcuated_amt = regular_amt + overtime_amt\n",
    "else:\n",
    "    unedcuated_amt = hours*15\n",
    "    \n",
    "print('Educated Amount: R{:.2f} \\nUneducated Amount: R{:.2f}'.format(educated_amt, unedcuated_amt))\n",
    "#{.2f formats to 2 decimal places}"
   ]
  },
  {
   "cell_type": "code",
   "execution_count": 2,
   "id": "c7f020ab",
   "metadata": {},
   "outputs": [
    {
     "name": "stdout",
     "output_type": "stream",
     "text": [
      "sdfsd\n",
      "Access denied\n"
     ]
    }
   ],
   "source": [
    "#3.4\n",
    "correct_password = 'abcd1234'\n",
    "user_password = input()\n",
    "if correct_password == user_password:\n",
    "    print('Access granted')\n",
    "else:\n",
    "    print('Access denied')"
   ]
  },
  {
   "cell_type": "code",
   "execution_count": 3,
   "id": "c2a721f4",
   "metadata": {},
   "outputs": [
    {
     "name": "stdout",
     "output_type": "stream",
     "text": [
      "-4\n",
      "negative\n"
     ]
    }
   ],
   "source": [
    "#3.5\n",
    "num = int(input())\n",
    "\n",
    "if num < 0:\n",
    "    print('negative')\n",
    "elif num > 0: \n",
    "    print('positive')\n",
    "else:\n",
    "    print('zero')"
   ]
  },
  {
   "cell_type": "code",
   "execution_count": 4,
   "id": "beaa7a1a",
   "metadata": {
    "scrolled": true
   },
   "outputs": [
    {
     "name": "stdout",
     "output_type": "stream",
     "text": [
      "3\n",
      "Number is odd\n"
     ]
    }
   ],
   "source": [
    "#3.6\n",
    "num = int(input())\n",
    "if num % 2 != 0: #odd num\n",
    "    print('Number is odd')\n",
    "else: #even num\n",
    "    print(num**2)"
   ]
  },
  {
   "cell_type": "code",
   "execution_count": 5,
   "id": "6df096a0",
   "metadata": {},
   "outputs": [
    {
     "name": "stdout",
     "output_type": "stream",
     "text": [
      "4\n",
      "4\n"
     ]
    }
   ],
   "source": [
    "#3.7\n",
    "num = int(input())\n",
    "if num%5==0 and num%3==0:\n",
    "    print('Both Divisible')\n",
    "elif num%3==0:\n",
    "    print('Three Divisible')\n",
    "elif num%5==0:\n",
    "    print('Five Divisible')\n",
    "else:\n",
    "    print(num)"
   ]
  },
  {
   "cell_type": "code",
   "execution_count": 6,
   "id": "71124d00",
   "metadata": {},
   "outputs": [
    {
     "name": "stdout",
     "output_type": "stream",
     "text": [
      "a = 8\n",
      "b = 5\n",
      "c = -3\n",
      "0.375 -1.0\n"
     ]
    }
   ],
   "source": [
    "#3.8\n",
    "import sys\n",
    "a = float(input('a = '))\n",
    "b = float(input('b = '))\n",
    "c = float(input('c = '))\n",
    "\n",
    "if a == float(0):\n",
    "    sys.exit()\n",
    "\n",
    "discriminant = b**2-4*a*c\n",
    "\n",
    "if discriminant < 0:\n",
    "    print('Complex Roots')\n",
    "else:\n",
    "    x1 = (-b+(discriminant)**(1/2))/(2*a)\n",
    "    x2 = (-b-(discriminant)**(1/2))/(2*a)\n",
    "    print(x1, x2)"
   ]
  },
  {
   "cell_type": "code",
   "execution_count": 7,
   "id": "3206a354",
   "metadata": {},
   "outputs": [
    {
     "name": "stdout",
     "output_type": "stream",
     "text": [
      "3,5,6,8\n",
      "22\n"
     ]
    }
   ],
   "source": [
    "#4.1\n",
    "list_nums = input().split(',')\n",
    "list_nums = [int(num) for num in list_nums]\n",
    "def add(list_nums):\n",
    "    total_sum=0 #nb sum is a reserved word\n",
    "    for num in list_nums:\n",
    "        total_sum += num\n",
    "    return total_sum\n",
    "print(add(list_nums))"
   ]
  },
  {
   "cell_type": "code",
   "execution_count": 8,
   "id": "b21fd372",
   "metadata": {},
   "outputs": [
    {
     "name": "stdout",
     "output_type": "stream",
     "text": [
      "1\n",
      "2\n",
      "3\n",
      "4\n",
      "5\n",
      "6\n",
      "7\n",
      "8\n",
      "9\n",
      "10\n"
     ]
    }
   ],
   "source": [
    "#4.2\n",
    "i = 1\n",
    "while i <= 10:\n",
    "    print(i)\n",
    "    i += 1"
   ]
  },
  {
   "cell_type": "code",
   "execution_count": 9,
   "id": "50ce142b",
   "metadata": {},
   "outputs": [
    {
     "name": "stdout",
     "output_type": "stream",
     "text": [
      "83\n",
      "Price = $15.00\n",
      "3\n",
      "Price = $10.00\n",
      "1\n",
      "Price = $0.00\n",
      "0\n"
     ]
    }
   ],
   "source": [
    "age = int(input())\n",
    "while age != 0:\n",
    "    if age < 3:\n",
    "        price = 0\n",
    "    elif 3<=age<=12:\n",
    "        price = 10\n",
    "    else:\n",
    "        price = 15\n",
    "    print('Price = ${:.2f}'.format(price))\n",
    "    age = int(input())"
   ]
  },
  {
   "cell_type": "code",
   "execution_count": 10,
   "id": "c6d1cb8f",
   "metadata": {},
   "outputs": [
    {
     "name": "stdout",
     "output_type": "stream",
     "text": [
      "2\n"
     ]
    }
   ],
   "source": [
    "#5.1\n",
    "def minimum(x,y):\n",
    "    if x < y: return x\n",
    "    else: return y\n",
    "print(minimum(2,5)) #test"
   ]
  },
  {
   "cell_type": "code",
   "execution_count": 11,
   "id": "4e225b45",
   "metadata": {},
   "outputs": [
    {
     "name": "stdout",
     "output_type": "stream",
     "text": [
      "5.166666666666667\n"
     ]
    }
   ],
   "source": [
    "#5.2\n",
    "def average(num_list):\n",
    "    return sum(num_list)/len(num_list)\n",
    "\n",
    "print(average([3,5,6,7,8,2])) #test"
   ]
  },
  {
   "cell_type": "code",
   "execution_count": 12,
   "id": "8df7618d",
   "metadata": {},
   "outputs": [
    {
     "name": "stdout",
     "output_type": "stream",
     "text": [
      "16\n"
     ]
    }
   ],
   "source": [
    "#5.3\n",
    "def add(num_list):\n",
    "    list_sum = 0\n",
    "    for num in num_list:\n",
    "        list_sum += num\n",
    "    return list_sum\n",
    "print(add([2,3,5,6])) # test"
   ]
  },
  {
   "cell_type": "code",
   "execution_count": 13,
   "id": "1686e3e7",
   "metadata": {},
   "outputs": [
    {
     "name": "stdout",
     "output_type": "stream",
     "text": [
      "undefined\n",
      "0.0\n",
      "1.0\n",
      "1.5849625007211563\n",
      "2.807354922057604\n",
      "3.1699250014423126\n",
      "4.459431618637297\n"
     ]
    }
   ],
   "source": [
    "#6.1\n",
    "import math\n",
    "test_set = [0,1,2,3,7,9,22]\n",
    "for num in test_set:\n",
    "    if num > 0: print(math.log(num, 2))\n",
    "    else: print('undefined')"
   ]
  },
  {
   "cell_type": "code",
   "execution_count": 18,
   "id": "d0151152",
   "metadata": {},
   "outputs": [
    {
     "name": "stdout",
     "output_type": "stream",
     "text": [
      "3\n",
      "8\n",
      "7\n"
     ]
    }
   ],
   "source": [
    "#6.2\n",
    "\n",
    "def gcd(dividend,divisor):\n",
    "    quotient = dividend // divisor\n",
    "    rem = dividend % divisor\n",
    "    while rem != 0:\n",
    "        dividend = divisor\n",
    "        divisor = rem\n",
    "        rem = dividend % divisor\n",
    "        \n",
    "    return divisor\n",
    "\n",
    "#tes set \n",
    "print(gcd(15,21)) \n",
    "print(gcd(152,200)) \n",
    "print(gcd(1988,9765)) "
   ]
  },
  {
   "cell_type": "code",
   "execution_count": 21,
   "id": "a5ba894a",
   "metadata": {},
   "outputs": [
    {
     "name": "stdout",
     "output_type": "stream",
     "text": [
      "x=54\n",
      "sine(x) = -0.56 \n",
      "cosine(x) = -0.83 \n",
      "tangent(x)=0.67\n"
     ]
    }
   ],
   "source": [
    "#7 i've made it round the ans to 2 decimal places\n",
    "import math\n",
    "x = float(input('x='))\n",
    "print('sine(x) = {:.2f} \\ncosine(x) = {:.2f} \\ntangent(x)={:.2f}'.format(math.sin(x), math.cos(x), math.tan(x)))"
   ]
  },
  {
   "cell_type": "code",
   "execution_count": 24,
   "id": "9146e5df",
   "metadata": {},
   "outputs": [
    {
     "name": "stdout",
     "output_type": "stream",
     "text": [
      "Not Found\n",
      "Found\n"
     ]
    }
   ],
   "source": [
    "#8\n",
    "def get_list(items, desired_item):\n",
    "    for item in items:\n",
    "        if item == desired_item:\n",
    "            return 'Found'\n",
    "    return 'Not Found'\n",
    "#test\n",
    "print(get_list([1,2,5,3,2], 6))\n",
    "print(get_list([1,2,5,3,2], 5))"
   ]
  },
  {
   "cell_type": "code",
   "execution_count": null,
   "id": "e593b332",
   "metadata": {},
   "outputs": [],
   "source": []
  }
 ],
 "metadata": {
  "kernelspec": {
   "display_name": "Python 3 (ipykernel)",
   "language": "python",
   "name": "python3"
  },
  "language_info": {
   "codemirror_mode": {
    "name": "ipython",
    "version": 3
   },
   "file_extension": ".py",
   "mimetype": "text/x-python",
   "name": "python",
   "nbconvert_exporter": "python",
   "pygments_lexer": "ipython3",
   "version": "3.12.3"
  }
 },
 "nbformat": 4,
 "nbformat_minor": 5
}
