{
 "cells": [
  {
   "cell_type": "code",
   "execution_count": 54,
   "id": "f417ff9f",
   "metadata": {},
   "outputs": [
    {
     "name": "stdout",
     "output_type": "stream",
     "text": [
      "1.1: -0.013317687926082029\n",
      "1.2: -0.013\n",
      "1.3: -0.013\n",
      "1.4:\n",
      "absolute error chopping: 0.0003176879260820293\n",
      "absolute error rounding 0.0003176879260820293\n",
      "relative error chopping: -0.02385458555909343\n",
      "relative error rounding -0.02385458555909343\n"
     ]
    }
   ],
   "source": [
    "#1.1\n",
    "import math\n",
    "x = ((13/14)-(6/7))/(2*(math.exp(1)-5.4))\n",
    "print('1.1:', x)\n",
    "\n",
    "#1.2\n",
    "x12 = math.trunc( ((13/14)-(6/7)) / (2*(math.exp(1)-5.4)) *1000) / 1000\n",
    "print('1.2:', x12)\n",
    "\n",
    "\n",
    "#1.3\n",
    "x13 = round(((13/14)-(6/7))/(2*(math.exp(1)-5.4)), 3)\n",
    "print('1.3:', x12)\n",
    "\n",
    "#1.4\n",
    "print('1.4:')\n",
    "print('absolute error chopping:', abs(x-x12))\n",
    "print('absolute error rounding', abs(x-x13))\n",
    "\n",
    "print('relative error chopping:', abs(x-x12)/x)\n",
    "print('relative error rounding', abs(x-x13)/x)"
   ]
  },
  {
   "cell_type": "markdown",
   "id": "9504bae7",
   "metadata": {},
   "source": [
    "$$ax^5 + bx^4+cx^3+dx^2+ex+f$$"
   ]
  },
  {
   "cell_type": "markdown",
   "id": "dcc22b5c",
   "metadata": {},
   "source": [
    "additions = 5 \n",
    "multiplications = 20"
   ]
  },
  {
   "cell_type": "markdown",
   "id": "2119308e",
   "metadata": {},
   "source": [
    "$$ ax^5 + bx^4+cx^3+dx^2+ex+f = x(x(x(x(ax+b)+c)+d)+e)+f$$"
   ]
  },
  {
   "cell_type": "markdown",
   "id": "1e765db6",
   "metadata": {},
   "source": [
    "additions = 5\n",
    "multiplications = 5"
   ]
  },
  {
   "cell_type": "code",
   "execution_count": 44,
   "id": "757f6650",
   "metadata": {},
   "outputs": [
    {
     "name": "stdout",
     "output_type": "stream",
     "text": [
      "Absolute Error: 0.0002818284590451192\n",
      "Relative Error: 0.00010367889601972718\n",
      "Absolute Error: 1.807872586040105\n",
      "Relative Error: 0.0040014189564521645\n",
      "Absolute Error: 3343.1271580516477\n",
      "Relative Error: 0.009212762230080598\n"
     ]
    }
   ],
   "source": [
    "#3.1\n",
    "def abs_err(p,ps):\n",
    "    return abs(p-ps)\n",
    "def rel_err(p,ps):\n",
    "    return abs_err(p,ps)/p\n",
    "\n",
    "#3.1a\n",
    "print('Absolute Error:', abs_err(math.exp(1),2.718))\n",
    "print('Relative Error:', rel_err(math.exp(1),2.718))\n",
    "\n",
    "#3.1b\n",
    "print('Absolute Error:', abs_err(7**math.pi, 450))\n",
    "print('Relative Error:', rel_err(7**math.pi,450))\n",
    "\n",
    "#3.1c\n",
    "print('Absolute Error:', abs_err(math.factorial(9),math.sqrt(18*math.pi)*(9/math.exp(1))**9))\n",
    "print('Relative Error:', rel_err(math.factorial(9),math.sqrt(18*math.pi)*(9/math.exp(1))**9))"
   ]
  },
  {
   "cell_type": "code",
   "execution_count": 2,
   "id": "4ba7d044",
   "metadata": {},
   "outputs": [
    {
     "name": "stdout",
     "output_type": "stream",
     "text": [
      "(-0.5005, -0.4995)\n",
      "(450.549, 451.451)\n"
     ]
    }
   ],
   "source": [
    "#3.2\n",
    "def err_interval(x): #a<=x<=b\n",
    "    return -10**(-3)*abs(x)+x, 10**(-3)*abs(x)+x\n",
    "\n",
    "print(err_interval(-0.5))\n",
    "print(err_interval(451))"
   ]
  },
  {
   "cell_type": "code",
   "execution_count": 15,
   "id": "44790a60",
   "metadata": {},
   "outputs": [
    {
     "name": "stdout",
     "output_type": "stream",
     "text": [
      "1.23457e+02 \n",
      "\n",
      "1.23457e+09 \n",
      "\n",
      "3.14159e+00 \n",
      "\n",
      "-6.41500e-02 \n",
      "\n",
      "9.11882e-04 \n",
      "\n"
     ]
    }
   ],
   "source": [
    "#3.3\n",
    "import math\n",
    "#:.xf is x floating point places' xe is x-1 significant figures\n",
    "input = [123.45678, 1234567890, math.pi, -math.sqrt(3)/(3**3), 1/(math.exp(1)**7)]\n",
    "\n",
    "for num in input:\n",
    "    print(f\"{num:.5e} \\n\")"
   ]
  },
  {
   "cell_type": "code",
   "execution_count": 16,
   "id": "4cdc0071",
   "metadata": {},
   "outputs": [],
   "source": [
    "#3.4"
   ]
  },
  {
   "cell_type": "markdown",
   "id": "694381db",
   "metadata": {},
   "source": [
    "$$e^{1.53}=4.62$$"
   ]
  },
  {
   "cell_type": "markdown",
   "id": "e7f21f0c",
   "metadata": {},
   "source": [
    "$$f(x)=1.01e^{4x}-4.62e^{3x}-3.11e^{2x}+12.2e^x-1.99$$\n",
    "$$\\text{let } a=e^{1.53}$$\n",
    "$$f(1.53)=1.01a^4-4.62a^3-3.11a^2+12.2a-1.99$$"
   ]
  },
  {
   "cell_type": "code",
   "execution_count": 31,
   "id": "a57c1805",
   "metadata": {},
   "outputs": [
    {
     "name": "stdout",
     "output_type": "stream",
     "text": [
      "-7.959999999999965\n",
      "-7.607871445518169\n"
     ]
    }
   ],
   "source": [
    "#a\n",
    "a = math.exp(1.53)\n",
    "#print( round(1.01*a**4,3) - round(4.62*a**3,3) - round(3.11*a**2,3) + round(12.2*a-1.99))\n",
    "ans_a = 1.01*a**4 - 4.62*a**3 - 3.11*a**2 + 12.2*a-1.99\n",
    "print(ans_a)"
   ]
  },
  {
   "cell_type": "markdown",
   "id": "aec3a21e",
   "metadata": {},
   "source": [
    "#### 3.4.b\n",
    "$$f(x)=1.01e^{4x}-4.62e^{3x}-3.11e^{2x}+12.2e^x-1.99$$"
   ]
  },
  {
   "cell_type": "markdown",
   "id": "0c5562ba",
   "metadata": {},
   "source": [
    "$$ f(x) = e^x(e^x(e^x(1.01e^x-4.62)-3.11)+12/2)-1.99 $$\n",
    "$$\\text{let } a=e^{1.53}$$\n",
    "$$ f(1.53) = a(a(a(1.01a-4.62)-3.11)+12/2)-1.99 $$"
   ]
  },
  {
   "cell_type": "code",
   "execution_count": 50,
   "id": "b11c5ec0",
   "metadata": {},
   "outputs": [
    {
     "name": "stdout",
     "output_type": "stream",
     "text": [
      "-7.607871445518115\n"
     ]
    }
   ],
   "source": [
    "ans_b = a*(a*(a*(1.01*a-4.62)-3.11)+12.2)-1.99\n",
    "print(ans_b)"
   ]
  },
  {
   "cell_type": "code",
   "execution_count": 53,
   "id": "692c3d47",
   "metadata": {},
   "outputs": [
    {
     "name": "stdout",
     "output_type": "stream",
     "text": [
      "Relative err a:  -1.4943317396430398e-14\n",
      "Relative err b:  -7.821892699694036e-15\n"
     ]
    }
   ],
   "source": [
    "def abs_err(p,ps):\n",
    "    return abs(p-ps)\n",
    "def rel_err(p,ps):\n",
    "    return abs_err(p,ps)/p\n",
    "\n",
    "def f(x):\n",
    "    return 1.01*math.exp(4*x)-4.62*math.exp(3*x)-3.11*math.exp(2*x)+12.2*math.exp(x)-1.99\n",
    "y=f(1.53)\n",
    "\n",
    "\n",
    "ans_a = 1.01*a**4 - 4.62*a**3 - 3.11*a**2 + 12.2*a-1.99\n",
    "ans_b = a*(a*(a*(1.01*a-4.62)-3.11)+12.2)-1.99\n",
    "print('Relative err a: ', rel_err(y, ans_a))\n",
    "print('Relative err b: ', rel_err(y, ans_b))   "
   ]
  },
  {
   "cell_type": "code",
   "execution_count": null,
   "id": "ca7e3fed",
   "metadata": {},
   "outputs": [],
   "source": []
  }
 ],
 "metadata": {
  "kernelspec": {
   "display_name": "Python 3 (ipykernel)",
   "language": "python",
   "name": "python3"
  },
  "language_info": {
   "codemirror_mode": {
    "name": "ipython",
    "version": 3
   },
   "file_extension": ".py",
   "mimetype": "text/x-python",
   "name": "python",
   "nbconvert_exporter": "python",
   "pygments_lexer": "ipython3",
   "version": "3.12.3"
  }
 },
 "nbformat": 4,
 "nbformat_minor": 5
}
